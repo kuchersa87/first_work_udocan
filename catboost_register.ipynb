{
 "cells": [
  {
   "cell_type": "code",
   "execution_count": 1,
   "id": "249644b4",
   "metadata": {
    "collapsed": true
   },
   "outputs": [
    {
     "ename": "SyntaxError",
     "evalue": "invalid syntax (2064492039.py, line 2)",
     "output_type": "error",
     "traceback": [
      "\u001b[1;36m  File \u001b[1;32m\"C:\\Users\\Test\\AppData\\Local\\Temp\\ipykernel_4688\\2064492039.py\"\u001b[1;36m, line \u001b[1;32m2\u001b[0m\n\u001b[1;33m    pip install catboost\u001b[0m\n\u001b[1;37m        ^\u001b[0m\n\u001b[1;31mSyntaxError\u001b[0m\u001b[1;31m:\u001b[0m invalid syntax\n"
     ]
    }
   ],
   "source": [
    "# Первичная установка кэтбуста\n",
    "pip install catboost"
   ]
  },
  {
   "cell_type": "code",
   "execution_count": 2,
   "id": "0c521bbe",
   "metadata": {},
   "outputs": [],
   "source": [
    "import pandas as pd\n",
    "import numpy as np\n",
    "\n",
    "from sklearn.model_selection import train_test_split\n",
    "from sklearn.metrics import mean_absolute_error, mean_absolute_percentage_error\n",
    "\n",
    "from catboost import CatBoostRegressor"
   ]
  },
  {
   "cell_type": "code",
   "execution_count": 3,
   "id": "a22f2bf5",
   "metadata": {},
   "outputs": [],
   "source": [
    "df = pd.read_excel('C:/Users/Test/Documents/DS/notebooks/udocan/Register_11.03.2023.xlsx')"
   ]
  },
  {
   "cell_type": "code",
   "execution_count": 4,
   "id": "00dbb427",
   "metadata": {},
   "outputs": [],
   "source": [
    "# Оставляем только закрытые\n",
    "df = df.query(\"TQS_Состояние=='Закрыт'\")"
   ]
  },
  {
   "cell_type": "code",
   "execution_count": 5,
   "id": "30148e7f",
   "metadata": {},
   "outputs": [],
   "source": [
    "# Убрал лишние колонки\n",
    "df = df[['TQS_Инициатор', 'TQS_Организация', 'TQS_Чего касается TQS', 'TQS_РПИ', 'TQS_Проектный офис',  \\\n",
    "    'Длительность отработки запроса']]"
   ]
  },
  {
   "cell_type": "code",
   "execution_count": 6,
   "id": "ca3d351d",
   "metadata": {},
   "outputs": [],
   "source": [
    "# Убрал пропуски\n",
    "df = df.dropna()"
   ]
  },
  {
   "cell_type": "code",
   "execution_count": 7,
   "id": "efd966f7",
   "metadata": {},
   "outputs": [],
   "source": [
    "# Разделение на обучение 60%, валидация 20% и тест 20%\n",
    "train, test = train_test_split(df, train_size = 0.625, random_state = 42)\n",
    "val, test = train_test_split(test, train_size = 0.5, random_state = 42)"
   ]
  },
  {
   "cell_type": "code",
   "execution_count": 8,
   "id": "b6990c4f",
   "metadata": {},
   "outputs": [
    {
     "data": {
      "text/plain": [
       "0.30008266740148803"
      ]
     },
     "execution_count": 8,
     "metadata": {},
     "output_type": "execute_result"
    }
   ],
   "source": [
    "# Проверка длины списков\n",
    "len(val) / len(train)\n",
    "#len(test) / len(train)"
   ]
  },
  {
   "cell_type": "code",
   "execution_count": 9,
   "id": "08fe46bf",
   "metadata": {},
   "outputs": [],
   "source": [
    "# Список признаков\n",
    "X = ['TQS_Инициатор', 'TQS_Организация', 'TQS_Чего касается TQS', 'TQS_РПИ', 'TQS_Проектный офис']\n",
    "cat_features = ['TQS_Инициатор', 'TQS_Организация', 'TQS_Чего касается TQS', 'TQS_РПИ', 'TQS_Проектный офис']\n",
    "y = ['Длительность отработки запроса']  # таргет. признак, который мы хотим предсказывать"
   ]
  },
  {
   "cell_type": "code",
   "execution_count": 10,
   "id": "9b885cd3",
   "metadata": {},
   "outputs": [],
   "source": [
    "# Создание параметров дл модели\n",
    "parameters = {'cat_features' : cat_features,\n",
    "             'eval_metric' : 'MAPE',\n",
    "             'verbose' : 100,\n",
    "             'learning_rate' : 0.035,\n",
    "             'random_seed' : 42}\n",
    "\n",
    "# cat_features - список с категорийными колонками\n",
    "# eval_metric - метрика\n",
    "# verbose - выводит на печать каждый 100 результат\n",
    "# random_seed - зафиксили результаты построения модели\n",
    "# learning_rate - скорость обучения"
   ]
  },
  {
   "cell_type": "code",
   "execution_count": 11,
   "id": "3d2394c9",
   "metadata": {},
   "outputs": [],
   "source": [
    "# Создание модели\n",
    "model = CatBoostRegressor(**parameters)"
   ]
  },
  {
   "cell_type": "code",
   "execution_count": 12,
   "id": "13b3acdf",
   "metadata": {
    "collapsed": true
   },
   "outputs": [
    {
     "name": "stdout",
     "output_type": "stream",
     "text": [
      "0:\tlearn: 3.2543130\ttest: 3.3715582\tbest: 3.3715582 (0)\ttotal: 199ms\tremaining: 3m 18s\n",
      "100:\tlearn: 2.8402032\ttest: 2.9896036\tbest: 2.9896036 (100)\ttotal: 3.64s\tremaining: 32.4s\n",
      "200:\tlearn: 2.7500918\ttest: 2.9465617\tbest: 2.9465617 (200)\ttotal: 7.61s\tremaining: 30.3s\n",
      "300:\tlearn: 2.6914452\ttest: 2.9235236\tbest: 2.9217095 (276)\ttotal: 11.1s\tremaining: 25.8s\n",
      "400:\tlearn: 2.6540859\ttest: 2.9108095\tbest: 2.9096535 (381)\ttotal: 14.5s\tremaining: 21.6s\n",
      "500:\tlearn: 2.6051991\ttest: 2.9042271\tbest: 2.9002777 (481)\ttotal: 17.8s\tremaining: 17.7s\n",
      "600:\tlearn: 2.5624431\ttest: 2.8883310\tbest: 2.8867616 (592)\ttotal: 21.2s\tremaining: 14.1s\n",
      "700:\tlearn: 2.5262348\ttest: 2.8735978\tbest: 2.8730452 (699)\ttotal: 24.6s\tremaining: 10.5s\n",
      "800:\tlearn: 2.4885366\ttest: 2.8720115\tbest: 2.8720115 (800)\ttotal: 27.7s\tremaining: 6.88s\n",
      "900:\tlearn: 2.4563578\ttest: 2.8671557\tbest: 2.8655714 (894)\ttotal: 30.8s\tremaining: 3.38s\n",
      "999:\tlearn: 2.4260981\ttest: 2.8692615\tbest: 2.8655714 (894)\ttotal: 34s\tremaining: 0us\n",
      "\n",
      "bestTest = 2.865571365\n",
      "bestIteration = 894\n",
      "\n",
      "Shrink model to first 895 iterations.\n"
     ]
    },
    {
     "data": {
      "text/plain": [
       "<catboost.core.CatBoostRegressor at 0x2da888d61f0>"
      ]
     },
     "execution_count": 12,
     "metadata": {},
     "output_type": "execute_result"
    }
   ],
   "source": [
    "# Запуск машинного обучения\n",
    "model.fit(train[X], train[y], eval_set = (val[X], val[y]))\n",
    "# bestTest = 1.785939653\n",
    "# bestIteration = 998\n",
    "\n",
    "# bestIteration должна быть ближе к концу. Настройки с random_seed"
   ]
  },
  {
   "cell_type": "code",
   "execution_count": 20,
   "id": "32beff27",
   "metadata": {},
   "outputs": [
    {
     "data": {
      "text/plain": [
       "array([ 8.0445815 , 14.9105339 ,  8.85949146, ...,  8.08450543,\n",
       "        7.22229788,  9.43677248])"
      ]
     },
     "execution_count": 20,
     "metadata": {},
     "output_type": "execute_result"
    }
   ],
   "source": [
    "# Создание массива с предсказанием\n",
    "model.predict(test[X])"
   ]
  },
  {
   "cell_type": "code",
   "execution_count": 21,
   "id": "3710862b",
   "metadata": {},
   "outputs": [],
   "source": [
    "# Создание дополнительной колонки с предсказанием в тестовой части\n",
    "test = test.assign(term_pred = model.predict(test[X]))"
   ]
  },
  {
   "cell_type": "code",
   "execution_count": 22,
   "id": "32ceb8c9",
   "metadata": {},
   "outputs": [],
   "source": [
    "# Создание функции для проверки ошибки\n",
    "def error(y_true, y_pred):\n",
    "    print('MAE: ', mean_absolute_error(y_true, y_pred))\n",
    "    print('MAPE:', mean_absolute_percentage_error(y_true, y_pred))"
   ]
  },
  {
   "cell_type": "code",
   "execution_count": 23,
   "id": "c908d88a",
   "metadata": {},
   "outputs": [
    {
     "name": "stdout",
     "output_type": "stream",
     "text": [
      "MAE:  9.963483195787315\n",
      "MAPE: 2973350833772313.5\n"
     ]
    }
   ],
   "source": [
    "# Вывод на печать величины ошибки\n",
    "error(test['Длительность отработки запроса'], test.term_pred)"
   ]
  },
  {
   "cell_type": "markdown",
   "id": "a53e9a87",
   "metadata": {},
   "source": [
    "Анализ модели"
   ]
  },
  {
   "cell_type": "code",
   "execution_count": 24,
   "id": "92e0e58a",
   "metadata": {},
   "outputs": [],
   "source": [
    "# Создам копию дф\n",
    "test_final = test.copy()"
   ]
  },
  {
   "cell_type": "code",
   "execution_count": 25,
   "id": "7fd8cee3",
   "metadata": {},
   "outputs": [],
   "source": [
    "# Добавим колонку с ошибками модели\n",
    "test_final = test_final.assign(model_err = test_final['Длительность отработки запроса'] - test_final.term_pred)"
   ]
  },
  {
   "cell_type": "code",
   "execution_count": 26,
   "id": "24639871",
   "metadata": {
    "collapsed": true
   },
   "outputs": [
    {
     "data": {
      "text/plain": [
       "<AxesSubplot:>"
      ]
     },
     "execution_count": 26,
     "metadata": {},
     "output_type": "execute_result"
    },
    {
     "data": {
      "image/png": "[encoded data removed]",
      "text/plain": [
       "<Figure size 640x480 with 1 Axes>"
      ]
     },
     "metadata": {},
     "output_type": "display_data"
    }
   ],
   "source": [
    "# Посмотрим распределение на графике\n",
    "test_final.model_err.hist()"
   ]
  },
  {
   "cell_type": "code",
   "execution_count": 209,
   "id": "fa6ba74c",
   "metadata": {},
   "outputs": [
    {
     "data": {
      "text/plain": [
       "-3.6755923540813447"
      ]
     },
     "execution_count": 209,
     "metadata": {},
     "output_type": "execute_result"
    }
   ],
   "source": [
    "# Куда в основном ошибается модель\n",
    "test_final.model_err.median()\n",
    "#test.model_err.mean()\n",
    "#-3.67\n",
    "# Показывает в среднем на 3,67 дня меньше, чем на самом деле!\n",
    "# Занижает реальное значение"
   ]
  },
  {
   "cell_type": "code",
   "execution_count": 211,
   "id": "1468ac33",
   "metadata": {},
   "outputs": [],
   "source": [
    "# Абсолютная ошибка\n",
    "test_final = test_final.assign(model_err_abs = abs(test_final.model_err))"
   ]
  },
  {
   "cell_type": "code",
   "execution_count": 216,
   "id": "382778dd",
   "metadata": {
    "collapsed": true
   },
   "outputs": [
    {
     "data": {
      "text/plain": [
       "<AxesSubplot:>"
      ]
     },
     "execution_count": 216,
     "metadata": {},
     "output_type": "execute_result"
    },
    {
     "data": {
      "image/png": "[encoded data removed]",
      "text/plain": [
       "<Figure size 640x480 with 1 Axes>"
      ]
     },
     "metadata": {},
     "output_type": "display_data"
    }
   ],
   "source": [
    "test_final.model_err_abs.hist()"
   ]
  },
  {
   "cell_type": "code",
   "execution_count": 215,
   "id": "90ec387e",
   "metadata": {},
   "outputs": [
    {
     "data": {
      "text/plain": [
       "count    760.000000\n",
       "mean      10.095928\n",
       "std       10.225273\n",
       "min        0.016368\n",
       "25%        3.832041\n",
       "50%        7.586692\n",
       "75%       11.950872\n",
       "max       69.807966\n",
       "Name: model_err_abs, dtype: float64"
      ]
     },
     "execution_count": 215,
     "metadata": {},
     "output_type": "execute_result"
    }
   ],
   "source": [
    "test_final.model_err_abs.describe()"
   ]
  },
  {
   "cell_type": "code",
   "execution_count": 218,
   "id": "aab8d438",
   "metadata": {
    "collapsed": true
   },
   "outputs": [
    {
     "data": {
      "text/html": [
       "<div>\n",
       "<style scoped>\n",
       "    .dataframe tbody tr th:only-of-type {\n",
       "        vertical-align: middle;\n",
       "    }\n",
       "\n",
       "    .dataframe tbody tr th {\n",
       "        vertical-align: top;\n",
       "    }\n",
       "\n",
       "    .dataframe thead th {\n",
       "        text-align: right;\n",
       "    }\n",
       "</style>\n",
       "<table border=\"1\" class=\"dataframe\">\n",
       "  <thead>\n",
       "    <tr style=\"text-align: right;\">\n",
       "      <th></th>\n",
       "      <th>TQS_Инициатор</th>\n",
       "      <th>TQS_Организация</th>\n",
       "      <th>TQS_Чего касается TQS</th>\n",
       "      <th>TQS_РПИ</th>\n",
       "      <th>TQS_Проектный офис</th>\n",
       "      <th>Длительность отработки запроса</th>\n",
       "      <th>term_pred</th>\n",
       "      <th>model_err</th>\n",
       "      <th>model_err_abs</th>\n",
       "    </tr>\n",
       "  </thead>\n",
       "  <tbody>\n",
       "    <tr>\n",
       "      <th>1487</th>\n",
       "      <td>Дирекция по строительству</td>\n",
       "      <td>Дирекция по строительству</td>\n",
       "      <td>Электрика</td>\n",
       "      <td>Механобр инжиниринг</td>\n",
       "      <td>UMCD - ПО-1</td>\n",
       "      <td>86.0</td>\n",
       "      <td>16.192034</td>\n",
       "      <td>69.807966</td>\n",
       "      <td>69.807966</td>\n",
       "    </tr>\n",
       "    <tr>\n",
       "      <th>611</th>\n",
       "      <td>Дирекция по строительству</td>\n",
       "      <td>Дирекция по строительству</td>\n",
       "      <td>Электрика</td>\n",
       "      <td>НЭЭПИ</td>\n",
       "      <td>UMCD - ПО-3</td>\n",
       "      <td>83.0</td>\n",
       "      <td>16.967706</td>\n",
       "      <td>66.032294</td>\n",
       "      <td>66.032294</td>\n",
       "    </tr>\n",
       "    <tr>\n",
       "      <th>2070</th>\n",
       "      <td>Подрядчик</td>\n",
       "      <td>СтройПроектСервис</td>\n",
       "      <td>Общестрой</td>\n",
       "      <td>ПромГражданПроект</td>\n",
       "      <td>UMCD - ПО-5</td>\n",
       "      <td>72.0</td>\n",
       "      <td>6.530707</td>\n",
       "      <td>65.469293</td>\n",
       "      <td>65.469293</td>\n",
       "    </tr>\n",
       "    <tr>\n",
       "      <th>4318</th>\n",
       "      <td>Дирекция по строительству</td>\n",
       "      <td>Дирекция по строительству - ООО \"Удоканская Медь\"</td>\n",
       "      <td>Архитектурные решения</td>\n",
       "      <td>ПЭТ</td>\n",
       "      <td>UMCD - ПО-2</td>\n",
       "      <td>82.0</td>\n",
       "      <td>21.191949</td>\n",
       "      <td>60.808051</td>\n",
       "      <td>60.808051</td>\n",
       "    </tr>\n",
       "    <tr>\n",
       "      <th>3858</th>\n",
       "      <td>Подрядчик</td>\n",
       "      <td>Ренейссанс Хэви Индастрис</td>\n",
       "      <td>Электрика</td>\n",
       "      <td>МЕХ</td>\n",
       "      <td>UMCD - ПО-1</td>\n",
       "      <td>79.0</td>\n",
       "      <td>18.305605</td>\n",
       "      <td>60.694395</td>\n",
       "      <td>60.694395</td>\n",
       "    </tr>\n",
       "    <tr>\n",
       "      <th>3738</th>\n",
       "      <td>Подрядчик</td>\n",
       "      <td>Ренейссанс Хэви Индастрис</td>\n",
       "      <td>Электрика</td>\n",
       "      <td>МЕХ</td>\n",
       "      <td>UMCD - ПО-1</td>\n",
       "      <td>73.0</td>\n",
       "      <td>18.305605</td>\n",
       "      <td>54.694395</td>\n",
       "      <td>54.694395</td>\n",
       "    </tr>\n",
       "    <tr>\n",
       "      <th>645</th>\n",
       "      <td>Дирекция по строительству</td>\n",
       "      <td>Дирекция по строительству</td>\n",
       "      <td>Оборудование</td>\n",
       "      <td>ТОМС Проект</td>\n",
       "      <td>UMCD - ПО-6</td>\n",
       "      <td>77.0</td>\n",
       "      <td>23.785466</td>\n",
       "      <td>53.214534</td>\n",
       "      <td>53.214534</td>\n",
       "    </tr>\n",
       "    <tr>\n",
       "      <th>646</th>\n",
       "      <td>Дирекция по строительству</td>\n",
       "      <td>Дирекция по строительству</td>\n",
       "      <td>Электрика</td>\n",
       "      <td>СМАРТ-инжиниринг</td>\n",
       "      <td>UMCD - ПО-6</td>\n",
       "      <td>92.0</td>\n",
       "      <td>39.099585</td>\n",
       "      <td>52.900415</td>\n",
       "      <td>52.900415</td>\n",
       "    </tr>\n",
       "    <tr>\n",
       "      <th>1547</th>\n",
       "      <td>Дирекция по строительству</td>\n",
       "      <td>Дирекция по строительству</td>\n",
       "      <td>Электрика</td>\n",
       "      <td>СПб-Гипрошахт</td>\n",
       "      <td>UMCD - ПО-1</td>\n",
       "      <td>71.0</td>\n",
       "      <td>19.813101</td>\n",
       "      <td>51.186899</td>\n",
       "      <td>51.186899</td>\n",
       "    </tr>\n",
       "    <tr>\n",
       "      <th>3980</th>\n",
       "      <td>Дирекция по строительству</td>\n",
       "      <td>Дирекция по строительству - ПО-1 - ООО \"Удокан...</td>\n",
       "      <td>Компоновка / Трубопроводы</td>\n",
       "      <td>МЕХ</td>\n",
       "      <td>UMCD - ПО-1</td>\n",
       "      <td>57.0</td>\n",
       "      <td>7.968110</td>\n",
       "      <td>49.031890</td>\n",
       "      <td>49.031890</td>\n",
       "    </tr>\n",
       "  </tbody>\n",
       "</table>\n",
       "</div>"
      ],
      "text/plain": [
       "                  TQS_Инициатор  \\\n",
       "1487  Дирекция по строительству   \n",
       "611   Дирекция по строительству   \n",
       "2070                  Подрядчик   \n",
       "4318  Дирекция по строительству   \n",
       "3858                  Подрядчик   \n",
       "3738                  Подрядчик   \n",
       "645   Дирекция по строительству   \n",
       "646   Дирекция по строительству   \n",
       "1547  Дирекция по строительству   \n",
       "3980  Дирекция по строительству   \n",
       "\n",
       "                                        TQS_Организация  \\\n",
       "1487                          Дирекция по строительству   \n",
       "611                           Дирекция по строительству   \n",
       "2070                                  СтройПроектСервис   \n",
       "4318  Дирекция по строительству - ООО \"Удоканская Медь\"   \n",
       "3858                          Ренейссанс Хэви Индастрис   \n",
       "3738                          Ренейссанс Хэви Индастрис   \n",
       "645                           Дирекция по строительству   \n",
       "646                           Дирекция по строительству   \n",
       "1547                          Дирекция по строительству   \n",
       "3980  Дирекция по строительству - ПО-1 - ООО \"Удокан...   \n",
       "\n",
       "          TQS_Чего касается TQS              TQS_РПИ TQS_Проектный офис  \\\n",
       "1487                  Электрика  Механобр инжиниринг        UMCD - ПО-1   \n",
       "611                   Электрика                НЭЭПИ        UMCD - ПО-3   \n",
       "2070                  Общестрой    ПромГражданПроект        UMCD - ПО-5   \n",
       "4318      Архитектурные решения                  ПЭТ        UMCD - ПО-2   \n",
       "3858                  Электрика                  МЕХ        UMCD - ПО-1   \n",
       "3738                  Электрика                  МЕХ        UMCD - ПО-1   \n",
       "645                Оборудование          ТОМС Проект        UMCD - ПО-6   \n",
       "646                   Электрика     СМАРТ-инжиниринг        UMCD - ПО-6   \n",
       "1547                  Электрика        СПб-Гипрошахт        UMCD - ПО-1   \n",
       "3980  Компоновка / Трубопроводы                  МЕХ        UMCD - ПО-1   \n",
       "\n",
       "      Длительность отработки запроса  term_pred  model_err  model_err_abs  \n",
       "1487                            86.0  16.192034  69.807966      69.807966  \n",
       "611                             83.0  16.967706  66.032294      66.032294  \n",
       "2070                            72.0   6.530707  65.469293      65.469293  \n",
       "4318                            82.0  21.191949  60.808051      60.808051  \n",
       "3858                            79.0  18.305605  60.694395      60.694395  \n",
       "3738                            73.0  18.305605  54.694395      54.694395  \n",
       "645                             77.0  23.785466  53.214534      53.214534  \n",
       "646                             92.0  39.099585  52.900415      52.900415  \n",
       "1547                            71.0  19.813101  51.186899      51.186899  \n",
       "3980                            57.0   7.968110  49.031890      49.031890  "
      ]
     },
     "execution_count": 218,
     "metadata": {},
     "output_type": "execute_result"
    }
   ],
   "source": [
    "# Топ 10 запросов с максимальной ошибкой\n",
    "test_final.sort_values('model_err_abs', ascending = False).head(10)"
   ]
  }
 ],
 "metadata": {
  "kernelspec": {
   "display_name": "Python 3 (ipykernel)",
   "language": "python",
   "name": "python3"
  },
  "language_info": {
   "codemirror_mode": {
    "name": "ipython",
    "version": 3
   },
   "file_extension": ".py",
   "mimetype": "text/x-python",
   "name": "python",
   "nbconvert_exporter": "python",
   "pygments_lexer": "ipython3",
   "version": "3.9.13"
  }
 },
 "nbformat": 4,
 "nbformat_minor": 5
}
